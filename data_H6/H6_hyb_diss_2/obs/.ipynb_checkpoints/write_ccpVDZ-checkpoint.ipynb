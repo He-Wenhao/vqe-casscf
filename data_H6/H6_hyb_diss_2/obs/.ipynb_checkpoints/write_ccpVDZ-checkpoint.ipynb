{
 "cells": [
  {
   "cell_type": "code",
   "execution_count": 2,
   "id": "982ab7e2-8ade-4a13-bcbe-99f8b2b95ae3",
   "metadata": {},
   "outputs": [
    {
     "name": "stdout",
     "output_type": "stream",
     "text": [
      "Updated 0.json with value 0.56769453\n",
      "Updated 1.json with value -1.50781158\n",
      "Updated 2.json with value -2.49695264\n",
      "Updated 3.json with value -2.98758072\n",
      "Updated 4.json with value -3.2283596\n",
      "Updated 5.json with value -3.33763262\n",
      "Updated 6.json with value -3.37475003\n",
      "Updated 7.json with value -3.37175163\n",
      "Updated 8.json with value -3.34698283\n",
      "Updated 9.json with value -3.311187\n",
      "Updated 10.json with value -3.27081093\n",
      "Updated 11.json with value -3.22981494\n",
      "Updated 12.json with value -3.19067016\n",
      "Updated 13.json with value -3.1549015\n",
      "Updated 14.json with value -3.12337057\n",
      "Updated 15.json with value -3.09642991\n",
      "Updated 16.json with value -3.07403679\n",
      "Updated 17.json with value -3.05586641\n",
      "Updated 18.json with value -3.04142449\n",
      "Updated 19.json with value -3.03014472\n",
      "Updated 20.json with value -3.02146103\n",
      "Updated 21.json with value -3.0148538\n",
      "Updated 22.json with value -3.0098736\n"
     ]
    }
   ],
   "source": [
    "import json\n",
    "import os\n",
    "\n",
    "# values you want to write\n",
    "new_values = [\n",
    "    0.56769453, -1.50781158, -2.49695264, -2.98758072, -3.22835960,\n",
    "    -3.33763262, -3.37475003, -3.37175163, -3.34698283, -3.31118700,\n",
    "    -3.27081093, -3.22981494, -3.19067016, -3.15490150, -3.12337057,\n",
    "    -3.09642991, -3.07403679, -3.05586641, -3.04142449, -3.03014472,\n",
    "    -3.02146103, -3.01485380, -3.00987360\n",
    "]\n",
    "\n",
    "for i, val in enumerate(new_values):\n",
    "    fname = f\"{i}.json\"\n",
    "    if not os.path.exists(fname):\n",
    "        print(f\"Warning: {fname} not found, skipping.\")\n",
    "        continue\n",
    "    # read file\n",
    "    with open(fname, \"r\") as f:\n",
    "        data = json.load(f)\n",
    "\n",
    "    # update the value\n",
    "    if \"ccpVDZ\" in data and \"E\" in data[\"ccpVDZ\"]:\n",
    "        data[\"ccpVDZ\"][\"E\"] = val\n",
    "    else:\n",
    "        print(f\"Warning: {fname} missing ['ccpVDZ']['E'], skipping.\")\n",
    "        continue\n",
    "\n",
    "    # write file back\n",
    "    with open(fname, \"w\") as f:\n",
    "        json.dump(data, f, indent=2)\n",
    "\n",
    "    print(f\"Updated {fname} with value {val}\")\n"
   ]
  },
  {
   "cell_type": "code",
   "execution_count": null,
   "id": "1f703937-a984-402f-9b3c-1a43bb8d5f7f",
   "metadata": {},
   "outputs": [],
   "source": []
  }
 ],
 "metadata": {
  "kernelspec": {
   "display_name": "pytorch-2.6.0",
   "language": "python",
   "name": "pytorch-2.6.0"
  },
  "language_info": {
   "codemirror_mode": {
    "name": "ipython",
    "version": 3
   },
   "file_extension": ".py",
   "mimetype": "text/x-python",
   "name": "python",
   "nbconvert_exporter": "python",
   "pygments_lexer": "ipython3",
   "version": "3.12.9"
  }
 },
 "nbformat": 4,
 "nbformat_minor": 5
}
